{
  "nbformat": 4,
  "nbformat_minor": 0,
  "metadata": {
    "colab": {
      "name": "GeoJSON.ipynb",
      "provenance": [],
      "authorship_tag": "ABX9TyN9mLlTfejK3/m6kO4WTC5U",
      "include_colab_link": true
    },
    "kernelspec": {
      "name": "python3",
      "display_name": "Python 3"
    },
    "language_info": {
      "name": "python"
    }
  },
  "cells": [
    {
      "cell_type": "markdown",
      "metadata": {
        "id": "view-in-github",
        "colab_type": "text"
      },
      "source": [
        "<a href=\"https://colab.research.google.com/github/ccai-course/Module2-Mitigation/blob/main/GeoJSON.ipynb\" target=\"_parent\"><img src=\"https://colab.research.google.com/assets/colab-badge.svg\" alt=\"Open In Colab\"/></a>"
      ]
    },
    {
      "cell_type": "markdown",
      "metadata": {
        "id": "Ahu6yGeubk4Y"
      },
      "source": [
        "# How to use the GeoJSON file format"
      ]
    },
    {
      "cell_type": "code",
      "metadata": {
        "colab": {
          "base_uri": "https://localhost:8080/"
        },
        "id": "aL7I52hj8I-R",
        "outputId": "38754b74-6d41-49c0-9e16-6b344cea9f3f"
      },
      "source": [
        "!pip install geopandas"
      ],
      "execution_count": 3,
      "outputs": [
        {
          "output_type": "stream",
          "text": [
            "Collecting geopandas\n",
            "  Downloading geopandas-0.9.0-py2.py3-none-any.whl (994 kB)\n",
            "\u001b[?25l\r\u001b[K     |▎                               | 10 kB 29.6 MB/s eta 0:00:01\r\u001b[K     |▋                               | 20 kB 34.7 MB/s eta 0:00:01\r\u001b[K     |█                               | 30 kB 40.8 MB/s eta 0:00:01\r\u001b[K     |█▎                              | 40 kB 31.8 MB/s eta 0:00:01\r\u001b[K     |█▋                              | 51 kB 19.2 MB/s eta 0:00:01\r\u001b[K     |██                              | 61 kB 18.1 MB/s eta 0:00:01\r\u001b[K     |██▎                             | 71 kB 14.5 MB/s eta 0:00:01\r\u001b[K     |██▋                             | 81 kB 16.1 MB/s eta 0:00:01\r\u001b[K     |███                             | 92 kB 14.5 MB/s eta 0:00:01\r\u001b[K     |███▎                            | 102 kB 15.8 MB/s eta 0:00:01\r\u001b[K     |███▋                            | 112 kB 15.8 MB/s eta 0:00:01\r\u001b[K     |████                            | 122 kB 15.8 MB/s eta 0:00:01\r\u001b[K     |████▎                           | 133 kB 15.8 MB/s eta 0:00:01\r\u001b[K     |████▋                           | 143 kB 15.8 MB/s eta 0:00:01\r\u001b[K     |█████                           | 153 kB 15.8 MB/s eta 0:00:01\r\u001b[K     |█████▎                          | 163 kB 15.8 MB/s eta 0:00:01\r\u001b[K     |█████▋                          | 174 kB 15.8 MB/s eta 0:00:01\r\u001b[K     |██████                          | 184 kB 15.8 MB/s eta 0:00:01\r\u001b[K     |██████▎                         | 194 kB 15.8 MB/s eta 0:00:01\r\u001b[K     |██████▋                         | 204 kB 15.8 MB/s eta 0:00:01\r\u001b[K     |███████                         | 215 kB 15.8 MB/s eta 0:00:01\r\u001b[K     |███████▎                        | 225 kB 15.8 MB/s eta 0:00:01\r\u001b[K     |███████▋                        | 235 kB 15.8 MB/s eta 0:00:01\r\u001b[K     |████████                        | 245 kB 15.8 MB/s eta 0:00:01\r\u001b[K     |████████▎                       | 256 kB 15.8 MB/s eta 0:00:01\r\u001b[K     |████████▋                       | 266 kB 15.8 MB/s eta 0:00:01\r\u001b[K     |█████████                       | 276 kB 15.8 MB/s eta 0:00:01\r\u001b[K     |█████████▎                      | 286 kB 15.8 MB/s eta 0:00:01\r\u001b[K     |█████████▌                      | 296 kB 15.8 MB/s eta 0:00:01\r\u001b[K     |█████████▉                      | 307 kB 15.8 MB/s eta 0:00:01\r\u001b[K     |██████████▏                     | 317 kB 15.8 MB/s eta 0:00:01\r\u001b[K     |██████████▌                     | 327 kB 15.8 MB/s eta 0:00:01\r\u001b[K     |██████████▉                     | 337 kB 15.8 MB/s eta 0:00:01\r\u001b[K     |███████████▏                    | 348 kB 15.8 MB/s eta 0:00:01\r\u001b[K     |███████████▌                    | 358 kB 15.8 MB/s eta 0:00:01\r\u001b[K     |███████████▉                    | 368 kB 15.8 MB/s eta 0:00:01\r\u001b[K     |████████████▏                   | 378 kB 15.8 MB/s eta 0:00:01\r\u001b[K     |████████████▌                   | 389 kB 15.8 MB/s eta 0:00:01\r\u001b[K     |████████████▉                   | 399 kB 15.8 MB/s eta 0:00:01\r\u001b[K     |█████████████▏                  | 409 kB 15.8 MB/s eta 0:00:01\r\u001b[K     |█████████████▌                  | 419 kB 15.8 MB/s eta 0:00:01\r\u001b[K     |█████████████▉                  | 430 kB 15.8 MB/s eta 0:00:01\r\u001b[K     |██████████████▏                 | 440 kB 15.8 MB/s eta 0:00:01\r\u001b[K     |██████████████▌                 | 450 kB 15.8 MB/s eta 0:00:01\r\u001b[K     |██████████████▉                 | 460 kB 15.8 MB/s eta 0:00:01\r\u001b[K     |███████████████▏                | 471 kB 15.8 MB/s eta 0:00:01\r\u001b[K     |███████████████▌                | 481 kB 15.8 MB/s eta 0:00:01\r\u001b[K     |███████████████▉                | 491 kB 15.8 MB/s eta 0:00:01\r\u001b[K     |████████████████▏               | 501 kB 15.8 MB/s eta 0:00:01\r\u001b[K     |████████████████▌               | 512 kB 15.8 MB/s eta 0:00:01\r\u001b[K     |████████████████▉               | 522 kB 15.8 MB/s eta 0:00:01\r\u001b[K     |█████████████████▏              | 532 kB 15.8 MB/s eta 0:00:01\r\u001b[K     |█████████████████▌              | 542 kB 15.8 MB/s eta 0:00:01\r\u001b[K     |█████████████████▉              | 552 kB 15.8 MB/s eta 0:00:01\r\u001b[K     |██████████████████▏             | 563 kB 15.8 MB/s eta 0:00:01\r\u001b[K     |██████████████████▌             | 573 kB 15.8 MB/s eta 0:00:01\r\u001b[K     |██████████████████▊             | 583 kB 15.8 MB/s eta 0:00:01\r\u001b[K     |███████████████████             | 593 kB 15.8 MB/s eta 0:00:01\r\u001b[K     |███████████████████▍            | 604 kB 15.8 MB/s eta 0:00:01\r\u001b[K     |███████████████████▊            | 614 kB 15.8 MB/s eta 0:00:01\r\u001b[K     |████████████████████            | 624 kB 15.8 MB/s eta 0:00:01\r\u001b[K     |████████████████████▍           | 634 kB 15.8 MB/s eta 0:00:01\r\u001b[K     |████████████████████▊           | 645 kB 15.8 MB/s eta 0:00:01\r\u001b[K     |█████████████████████           | 655 kB 15.8 MB/s eta 0:00:01\r\u001b[K     |█████████████████████▍          | 665 kB 15.8 MB/s eta 0:00:01\r\u001b[K     |█████████████████████▊          | 675 kB 15.8 MB/s eta 0:00:01\r\u001b[K     |██████████████████████          | 686 kB 15.8 MB/s eta 0:00:01\r\u001b[K     |██████████████████████▍         | 696 kB 15.8 MB/s eta 0:00:01\r\u001b[K     |██████████████████████▊         | 706 kB 15.8 MB/s eta 0:00:01\r\u001b[K     |███████████████████████         | 716 kB 15.8 MB/s eta 0:00:01\r\u001b[K     |███████████████████████▍        | 727 kB 15.8 MB/s eta 0:00:01\r\u001b[K     |███████████████████████▊        | 737 kB 15.8 MB/s eta 0:00:01\r\u001b[K     |████████████████████████        | 747 kB 15.8 MB/s eta 0:00:01\r\u001b[K     |████████████████████████▍       | 757 kB 15.8 MB/s eta 0:00:01\r\u001b[K     |████████████████████████▊       | 768 kB 15.8 MB/s eta 0:00:01\r\u001b[K     |█████████████████████████       | 778 kB 15.8 MB/s eta 0:00:01\r\u001b[K     |█████████████████████████▍      | 788 kB 15.8 MB/s eta 0:00:01\r\u001b[K     |█████████████████████████▊      | 798 kB 15.8 MB/s eta 0:00:01\r\u001b[K     |██████████████████████████      | 808 kB 15.8 MB/s eta 0:00:01\r\u001b[K     |██████████████████████████▍     | 819 kB 15.8 MB/s eta 0:00:01\r\u001b[K     |██████████████████████████▊     | 829 kB 15.8 MB/s eta 0:00:01\r\u001b[K     |███████████████████████████     | 839 kB 15.8 MB/s eta 0:00:01\r\u001b[K     |███████████████████████████▍    | 849 kB 15.8 MB/s eta 0:00:01\r\u001b[K     |███████████████████████████▊    | 860 kB 15.8 MB/s eta 0:00:01\r\u001b[K     |████████████████████████████    | 870 kB 15.8 MB/s eta 0:00:01\r\u001b[K     |████████████████████████████▎   | 880 kB 15.8 MB/s eta 0:00:01\r\u001b[K     |████████████████████████████▋   | 890 kB 15.8 MB/s eta 0:00:01\r\u001b[K     |█████████████████████████████   | 901 kB 15.8 MB/s eta 0:00:01\r\u001b[K     |█████████████████████████████▎  | 911 kB 15.8 MB/s eta 0:00:01\r\u001b[K     |█████████████████████████████▋  | 921 kB 15.8 MB/s eta 0:00:01\r\u001b[K     |██████████████████████████████  | 931 kB 15.8 MB/s eta 0:00:01\r\u001b[K     |██████████████████████████████▎ | 942 kB 15.8 MB/s eta 0:00:01\r\u001b[K     |██████████████████████████████▋ | 952 kB 15.8 MB/s eta 0:00:01\r\u001b[K     |███████████████████████████████ | 962 kB 15.8 MB/s eta 0:00:01\r\u001b[K     |███████████████████████████████▎| 972 kB 15.8 MB/s eta 0:00:01\r\u001b[K     |███████████████████████████████▋| 983 kB 15.8 MB/s eta 0:00:01\r\u001b[K     |████████████████████████████████| 993 kB 15.8 MB/s eta 0:00:01\r\u001b[K     |████████████████████████████████| 994 kB 15.8 MB/s \n",
            "\u001b[?25hRequirement already satisfied: pandas>=0.24.0 in /usr/local/lib/python3.7/dist-packages (from geopandas) (1.1.5)\n",
            "Collecting pyproj>=2.2.0\n",
            "  Downloading pyproj-3.1.0-cp37-cp37m-manylinux2010_x86_64.whl (6.6 MB)\n",
            "\u001b[K     |████████████████████████████████| 6.6 MB 90.9 MB/s \n",
            "\u001b[?25hCollecting fiona>=1.8\n",
            "  Downloading Fiona-1.8.20-cp37-cp37m-manylinux1_x86_64.whl (15.4 MB)\n",
            "\u001b[K     |████████████████████████████████| 15.4 MB 37 kB/s \n",
            "\u001b[?25hRequirement already satisfied: shapely>=1.6 in /usr/local/lib/python3.7/dist-packages (from geopandas) (1.7.1)\n",
            "Collecting cligj>=0.5\n",
            "  Downloading cligj-0.7.2-py3-none-any.whl (7.1 kB)\n",
            "Requirement already satisfied: click>=4.0 in /usr/local/lib/python3.7/dist-packages (from fiona>=1.8->geopandas) (7.1.2)\n",
            "Requirement already satisfied: attrs>=17 in /usr/local/lib/python3.7/dist-packages (from fiona>=1.8->geopandas) (21.2.0)\n",
            "Requirement already satisfied: setuptools in /usr/local/lib/python3.7/dist-packages (from fiona>=1.8->geopandas) (57.4.0)\n",
            "Requirement already satisfied: six>=1.7 in /usr/local/lib/python3.7/dist-packages (from fiona>=1.8->geopandas) (1.15.0)\n",
            "Requirement already satisfied: certifi in /usr/local/lib/python3.7/dist-packages (from fiona>=1.8->geopandas) (2021.5.30)\n",
            "Collecting click-plugins>=1.0\n",
            "  Downloading click_plugins-1.1.1-py2.py3-none-any.whl (7.5 kB)\n",
            "Collecting munch\n",
            "  Downloading munch-2.5.0-py2.py3-none-any.whl (10 kB)\n",
            "Requirement already satisfied: numpy>=1.15.4 in /usr/local/lib/python3.7/dist-packages (from pandas>=0.24.0->geopandas) (1.19.5)\n",
            "Requirement already satisfied: python-dateutil>=2.7.3 in /usr/local/lib/python3.7/dist-packages (from pandas>=0.24.0->geopandas) (2.8.2)\n",
            "Requirement already satisfied: pytz>=2017.2 in /usr/local/lib/python3.7/dist-packages (from pandas>=0.24.0->geopandas) (2018.9)\n",
            "Installing collected packages: munch, cligj, click-plugins, pyproj, fiona, geopandas\n",
            "Successfully installed click-plugins-1.1.1 cligj-0.7.2 fiona-1.8.20 geopandas-0.9.0 munch-2.5.0 pyproj-3.1.0\n"
          ],
          "name": "stdout"
        }
      ]
    },
    {
      "cell_type": "code",
      "metadata": {
        "colab": {
          "base_uri": "https://localhost:8080/"
        },
        "id": "mWGU6N6fbeIx",
        "outputId": "cbca6e52-7d15-44de-c433-84ad45fff111"
      },
      "source": [
        "# Read in solar image\n",
        "\n",
        "# Import library functions to download and read images\n",
        "import requests\n",
        "from io import BytesIO\n",
        "\n",
        "# Dataset: Distributed Solar Photovoltaic Array Location and Extent Data Set for Remote Sensing Object Identification\n",
        "# California Aerial Imagery SolarArrayPolygons.geojson\n",
        "\n",
        "url = 'https://ndownloader.figshare.com/files/24115691'\n",
        "\n",
        "downloader_response = requests.get(url)\n",
        "byte_stream = BytesIO(downloader_response.content)\n",
        "\n",
        "\n",
        "import geopandas as gpd\n",
        "\n",
        "states = gpd.read_file(byte_stream)\n",
        "print(states.head())"
      ],
      "execution_count": 4,
      "outputs": [
        {
          "output_type": "stream",
          "text": [
            "   polygon_id  ...                                           geometry\n",
            "0           1  ...  POLYGON ((-119.84030 36.92625, -119.84068 36.9...\n",
            "1           2  ...  POLYGON ((-119.84031 36.92642, -119.84080 36.9...\n",
            "2           3  ...  POLYGON ((-119.84032 36.92648, -119.84032 36.9...\n",
            "3           4  ...  POLYGON ((-119.84276 36.92096, -119.84277 36.9...\n",
            "4           5  ...  POLYGON ((-119.84279 36.92089, -119.84299 36.9...\n",
            "\n",
            "[5 rows x 19 columns]\n"
          ],
          "name": "stdout"
        }
      ]
    }
  ]
}